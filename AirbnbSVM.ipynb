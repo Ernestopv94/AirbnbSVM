{
 "cells": [
  {
   "cell_type": "code",
   "execution_count": 1,
   "metadata": {},
   "outputs": [],
   "source": [
    "import numpy as np\n",
    "import pandas as pd\n",
    "import matplotlib.pyplot as plt\n",
    "from sklearn.model_selection import cross_val_score\n",
    "from sklearn.model_selection import GridSearchCV\n",
    "from sklearn.model_selection import RandomizedSearchCV\n",
    "from sklearn.metrics import confusion_matrix"
   ]
  },
  {
   "cell_type": "markdown",
   "metadata": {},
   "source": [
    "# Clasificación"
   ]
  },
  {
   "cell_type": "markdown",
   "metadata": {},
   "source": [
    "## Estudio preliminar de los datos"
   ]
  },
  {
   "cell_type": "markdown",
   "metadata": {},
   "source": [
    "Lo primero que se va a hacer es importar los datos y hacer un breve estudio para ver con qué se va a trabajar"
   ]
  },
  {
   "cell_type": "code",
   "execution_count": 2,
   "metadata": {
    "scrolled": true
   },
   "outputs": [
    {
     "data": {
      "text/html": [
       "<div>\n",
       "<style scoped>\n",
       "    .dataframe tbody tr th:only-of-type {\n",
       "        vertical-align: middle;\n",
       "    }\n",
       "\n",
       "    .dataframe tbody tr th {\n",
       "        vertical-align: top;\n",
       "    }\n",
       "\n",
       "    .dataframe thead th {\n",
       "        text-align: right;\n",
       "    }\n",
       "</style>\n",
       "<table border=\"1\" class=\"dataframe\">\n",
       "  <thead>\n",
       "    <tr style=\"text-align: right;\">\n",
       "      <th></th>\n",
       "      <th>neighbourhood_group</th>\n",
       "      <th>neighbourhood</th>\n",
       "      <th>latitude</th>\n",
       "      <th>longitude</th>\n",
       "      <th>room_type</th>\n",
       "      <th>price</th>\n",
       "      <th>minimum_nights</th>\n",
       "      <th>number_of_reviews</th>\n",
       "      <th>reviews_per_month</th>\n",
       "      <th>calculated_host_listings_count</th>\n",
       "      <th>availability_365</th>\n",
       "    </tr>\n",
       "  </thead>\n",
       "  <tbody>\n",
       "    <tr>\n",
       "      <th>0</th>\n",
       "      <td>Centro</td>\n",
       "      <td>Justicia</td>\n",
       "      <td>40.424715</td>\n",
       "      <td>-3.698638</td>\n",
       "      <td>Entire home/apt</td>\n",
       "      <td>49</td>\n",
       "      <td>28</td>\n",
       "      <td>35</td>\n",
       "      <td>0.42</td>\n",
       "      <td>1</td>\n",
       "      <td>99</td>\n",
       "    </tr>\n",
       "    <tr>\n",
       "      <th>1</th>\n",
       "      <td>Centro</td>\n",
       "      <td>Embajadores</td>\n",
       "      <td>40.413418</td>\n",
       "      <td>-3.706838</td>\n",
       "      <td>Entire home/apt</td>\n",
       "      <td>80</td>\n",
       "      <td>5</td>\n",
       "      <td>18</td>\n",
       "      <td>0.30</td>\n",
       "      <td>1</td>\n",
       "      <td>188</td>\n",
       "    </tr>\n",
       "    <tr>\n",
       "      <th>2</th>\n",
       "      <td>Moncloa - Aravaca</td>\n",
       "      <td>Argüelles</td>\n",
       "      <td>40.424920</td>\n",
       "      <td>-3.713446</td>\n",
       "      <td>Entire home/apt</td>\n",
       "      <td>40</td>\n",
       "      <td>2</td>\n",
       "      <td>21</td>\n",
       "      <td>0.25</td>\n",
       "      <td>9</td>\n",
       "      <td>195</td>\n",
       "    </tr>\n",
       "    <tr>\n",
       "      <th>3</th>\n",
       "      <td>Moncloa - Aravaca</td>\n",
       "      <td>Casa de Campo</td>\n",
       "      <td>40.431027</td>\n",
       "      <td>-3.724586</td>\n",
       "      <td>Entire home/apt</td>\n",
       "      <td>55</td>\n",
       "      <td>2</td>\n",
       "      <td>3</td>\n",
       "      <td>0.13</td>\n",
       "      <td>9</td>\n",
       "      <td>334</td>\n",
       "    </tr>\n",
       "    <tr>\n",
       "      <th>4</th>\n",
       "      <td>Latina</td>\n",
       "      <td>Cármenes</td>\n",
       "      <td>40.403410</td>\n",
       "      <td>-3.740842</td>\n",
       "      <td>Private room</td>\n",
       "      <td>16</td>\n",
       "      <td>2</td>\n",
       "      <td>23</td>\n",
       "      <td>0.76</td>\n",
       "      <td>2</td>\n",
       "      <td>250</td>\n",
       "    </tr>\n",
       "  </tbody>\n",
       "</table>\n",
       "</div>"
      ],
      "text/plain": [
       "  neighbourhood_group  neighbourhood   latitude  longitude        room_type  \\\n",
       "0              Centro       Justicia  40.424715  -3.698638  Entire home/apt   \n",
       "1              Centro    Embajadores  40.413418  -3.706838  Entire home/apt   \n",
       "2   Moncloa - Aravaca      Argüelles  40.424920  -3.713446  Entire home/apt   \n",
       "3   Moncloa - Aravaca  Casa de Campo  40.431027  -3.724586  Entire home/apt   \n",
       "4              Latina       Cármenes  40.403410  -3.740842     Private room   \n",
       "\n",
       "   price  minimum_nights  number_of_reviews  reviews_per_month  \\\n",
       "0     49              28                 35               0.42   \n",
       "1     80               5                 18               0.30   \n",
       "2     40               2                 21               0.25   \n",
       "3     55               2                  3               0.13   \n",
       "4     16               2                 23               0.76   \n",
       "\n",
       "   calculated_host_listings_count  availability_365  \n",
       "0                               1                99  \n",
       "1                               1               188  \n",
       "2                               9               195  \n",
       "3                               9               334  \n",
       "4                               2               250  "
      ]
     },
     "execution_count": 2,
     "metadata": {},
     "output_type": "execute_result"
    }
   ],
   "source": [
    "df = pd.read_csv('airbnb.csv')\n",
    "df.head()"
   ]
  },
  {
   "cell_type": "markdown",
   "metadata": {},
   "source": [
    "Con el método DataFrame.info() se puede ver si hay valores nulos en alguna columna"
   ]
  },
  {
   "cell_type": "code",
   "execution_count": 3,
   "metadata": {
    "scrolled": true
   },
   "outputs": [
    {
     "name": "stdout",
     "output_type": "stream",
     "text": [
      "<class 'pandas.core.frame.DataFrame'>\n",
      "RangeIndex: 13321 entries, 0 to 13320\n",
      "Data columns (total 11 columns):\n",
      " #   Column                          Non-Null Count  Dtype  \n",
      "---  ------                          --------------  -----  \n",
      " 0   neighbourhood_group             13321 non-null  object \n",
      " 1   neighbourhood                   13321 non-null  object \n",
      " 2   latitude                        13321 non-null  float64\n",
      " 3   longitude                       13321 non-null  float64\n",
      " 4   room_type                       13321 non-null  object \n",
      " 5   price                           13321 non-null  int64  \n",
      " 6   minimum_nights                  13321 non-null  int64  \n",
      " 7   number_of_reviews               13321 non-null  int64  \n",
      " 8   reviews_per_month               13321 non-null  float64\n",
      " 9   calculated_host_listings_count  13321 non-null  int64  \n",
      " 10  availability_365                13321 non-null  int64  \n",
      "dtypes: float64(3), int64(5), object(3)\n",
      "memory usage: 1.1+ MB\n"
     ]
    }
   ],
   "source": [
    "df.info()"
   ]
  },
  {
   "cell_type": "markdown",
   "metadata": {},
   "source": [
    "Afortunadamente no hay datos nulos así que no hay que realizar limpieza en ese aspecto"
   ]
  },
  {
   "cell_type": "markdown",
   "metadata": {},
   "source": [
    "Para echar un primer vistazo a las variables numéricas se va a usar DataFrame.describe() que proporciona distintos estadísticos como la media, la mediana etc de cada variable numérica"
   ]
  },
  {
   "cell_type": "code",
   "execution_count": 4,
   "metadata": {},
   "outputs": [
    {
     "data": {
      "text/html": [
       "<div>\n",
       "<style scoped>\n",
       "    .dataframe tbody tr th:only-of-type {\n",
       "        vertical-align: middle;\n",
       "    }\n",
       "\n",
       "    .dataframe tbody tr th {\n",
       "        vertical-align: top;\n",
       "    }\n",
       "\n",
       "    .dataframe thead th {\n",
       "        text-align: right;\n",
       "    }\n",
       "</style>\n",
       "<table border=\"1\" class=\"dataframe\">\n",
       "  <thead>\n",
       "    <tr style=\"text-align: right;\">\n",
       "      <th></th>\n",
       "      <th>latitude</th>\n",
       "      <th>longitude</th>\n",
       "      <th>price</th>\n",
       "      <th>minimum_nights</th>\n",
       "      <th>number_of_reviews</th>\n",
       "      <th>reviews_per_month</th>\n",
       "      <th>calculated_host_listings_count</th>\n",
       "      <th>availability_365</th>\n",
       "    </tr>\n",
       "  </thead>\n",
       "  <tbody>\n",
       "    <tr>\n",
       "      <th>count</th>\n",
       "      <td>13321.000000</td>\n",
       "      <td>13321.000000</td>\n",
       "      <td>13321.000000</td>\n",
       "      <td>13321.000000</td>\n",
       "      <td>13321.000000</td>\n",
       "      <td>13321.000000</td>\n",
       "      <td>13321.000000</td>\n",
       "      <td>13321.000000</td>\n",
       "    </tr>\n",
       "    <tr>\n",
       "      <th>mean</th>\n",
       "      <td>40.420730</td>\n",
       "      <td>-3.697268</td>\n",
       "      <td>69.171834</td>\n",
       "      <td>3.010885</td>\n",
       "      <td>22.986037</td>\n",
       "      <td>1.520329</td>\n",
       "      <td>7.605885</td>\n",
       "      <td>205.867202</td>\n",
       "    </tr>\n",
       "    <tr>\n",
       "      <th>std</th>\n",
       "      <td>0.020344</td>\n",
       "      <td>0.023832</td>\n",
       "      <td>103.721126</td>\n",
       "      <td>12.835619</td>\n",
       "      <td>38.406006</td>\n",
       "      <td>1.852367</td>\n",
       "      <td>19.619972</td>\n",
       "      <td>126.968961</td>\n",
       "    </tr>\n",
       "    <tr>\n",
       "      <th>min</th>\n",
       "      <td>40.331888</td>\n",
       "      <td>-3.863907</td>\n",
       "      <td>9.000000</td>\n",
       "      <td>1.000000</td>\n",
       "      <td>0.000000</td>\n",
       "      <td>0.000000</td>\n",
       "      <td>1.000000</td>\n",
       "      <td>0.000000</td>\n",
       "    </tr>\n",
       "    <tr>\n",
       "      <th>25%</th>\n",
       "      <td>40.410090</td>\n",
       "      <td>-3.707856</td>\n",
       "      <td>31.000000</td>\n",
       "      <td>1.000000</td>\n",
       "      <td>1.000000</td>\n",
       "      <td>0.110000</td>\n",
       "      <td>1.000000</td>\n",
       "      <td>84.000000</td>\n",
       "    </tr>\n",
       "    <tr>\n",
       "      <th>50%</th>\n",
       "      <td>40.418731</td>\n",
       "      <td>-3.701602</td>\n",
       "      <td>53.000000</td>\n",
       "      <td>2.000000</td>\n",
       "      <td>7.000000</td>\n",
       "      <td>0.780000</td>\n",
       "      <td>2.000000</td>\n",
       "      <td>247.000000</td>\n",
       "    </tr>\n",
       "    <tr>\n",
       "      <th>75%</th>\n",
       "      <td>40.427997</td>\n",
       "      <td>-3.693818</td>\n",
       "      <td>80.000000</td>\n",
       "      <td>3.000000</td>\n",
       "      <td>28.000000</td>\n",
       "      <td>2.320000</td>\n",
       "      <td>4.000000</td>\n",
       "      <td>321.000000</td>\n",
       "    </tr>\n",
       "    <tr>\n",
       "      <th>max</th>\n",
       "      <td>40.562736</td>\n",
       "      <td>-3.526821</td>\n",
       "      <td>7700.000000</td>\n",
       "      <td>1125.000000</td>\n",
       "      <td>446.000000</td>\n",
       "      <td>17.210000</td>\n",
       "      <td>145.000000</td>\n",
       "      <td>365.000000</td>\n",
       "    </tr>\n",
       "  </tbody>\n",
       "</table>\n",
       "</div>"
      ],
      "text/plain": [
       "           latitude     longitude         price  minimum_nights  \\\n",
       "count  13321.000000  13321.000000  13321.000000    13321.000000   \n",
       "mean      40.420730     -3.697268     69.171834        3.010885   \n",
       "std        0.020344      0.023832    103.721126       12.835619   \n",
       "min       40.331888     -3.863907      9.000000        1.000000   \n",
       "25%       40.410090     -3.707856     31.000000        1.000000   \n",
       "50%       40.418731     -3.701602     53.000000        2.000000   \n",
       "75%       40.427997     -3.693818     80.000000        3.000000   \n",
       "max       40.562736     -3.526821   7700.000000     1125.000000   \n",
       "\n",
       "       number_of_reviews  reviews_per_month  calculated_host_listings_count  \\\n",
       "count       13321.000000       13321.000000                    13321.000000   \n",
       "mean           22.986037           1.520329                        7.605885   \n",
       "std            38.406006           1.852367                       19.619972   \n",
       "min             0.000000           0.000000                        1.000000   \n",
       "25%             1.000000           0.110000                        1.000000   \n",
       "50%             7.000000           0.780000                        2.000000   \n",
       "75%            28.000000           2.320000                        4.000000   \n",
       "max           446.000000          17.210000                      145.000000   \n",
       "\n",
       "       availability_365  \n",
       "count      13321.000000  \n",
       "mean         205.867202  \n",
       "std          126.968961  \n",
       "min            0.000000  \n",
       "25%           84.000000  \n",
       "50%          247.000000  \n",
       "75%          321.000000  \n",
       "max          365.000000  "
      ]
     },
     "execution_count": 4,
     "metadata": {},
     "output_type": "execute_result"
    }
   ],
   "source": [
    "df.describe()"
   ]
  },
  {
   "cell_type": "markdown",
   "metadata": {},
   "source": [
    "Se observa que las variables price, minimum_nights, number_of_reviews y calculated_host_listings_count tienen una enorme diferencia entre su media y su mediana, lo que indica que son variables muy sesgadas. Cuando a continuación se dibujen sus histogramas se observará una cola por la derecha"
   ]
  },
  {
   "cell_type": "markdown",
   "metadata": {},
   "source": [
    "Ahora se va a estudiar las variables categóricas haciendo un recuento de cuantas veces aparece cada valor"
   ]
  },
  {
   "cell_type": "code",
   "execution_count": 5,
   "metadata": {},
   "outputs": [
    {
     "data": {
      "text/plain": [
       "Centro                   6773\n",
       "Chamberí                  960\n",
       "Salamanca                 883\n",
       "Arganzuela                790\n",
       "Tetuán                    463\n",
       "Moncloa - Aravaca         450\n",
       "Retiro                    439\n",
       "Latina                    379\n",
       "Chamartín                 361\n",
       "Carabanchel               358\n",
       "Ciudad Lineal             308\n",
       "Puente de Vallecas        222\n",
       "Hortaleza                 185\n",
       "Fuencarral - El Pardo     170\n",
       "Usera                     145\n",
       "San Blas - Canillejas     117\n",
       "Villaverde                 83\n",
       "Barajas                    81\n",
       "Moratalaz                  74\n",
       "Villa de Vallecas          46\n",
       "Vicálvaro                  34\n",
       "Name: neighbourhood_group, dtype: int64"
      ]
     },
     "execution_count": 5,
     "metadata": {},
     "output_type": "execute_result"
    }
   ],
   "source": [
    "df[\"neighbourhood_group\"].value_counts()"
   ]
  },
  {
   "cell_type": "code",
   "execution_count": 6,
   "metadata": {},
   "outputs": [
    {
     "data": {
      "text/plain": [
       "Embajadores       1848\n",
       "Universidad       1363\n",
       "Palacio           1084\n",
       "Sol                942\n",
       "Justicia           788\n",
       "                  ... \n",
       "Rosas                4\n",
       "Santa Eugenia        4\n",
       "Cuatro Vientos       3\n",
       "Orcasitas            2\n",
       "El Pardo             1\n",
       "Name: neighbourhood, Length: 126, dtype: int64"
      ]
     },
     "execution_count": 6,
     "metadata": {},
     "output_type": "execute_result"
    }
   ],
   "source": [
    "df[\"neighbourhood\"].value_counts()"
   ]
  },
  {
   "cell_type": "code",
   "execution_count": 7,
   "metadata": {},
   "outputs": [
    {
     "data": {
      "text/plain": [
       "Entire home/apt    7926\n",
       "Private room       5203\n",
       "Shared room         192\n",
       "Name: room_type, dtype: int64"
      ]
     },
     "execution_count": 7,
     "metadata": {},
     "output_type": "execute_result"
    }
   ],
   "source": [
    "df[\"room_type\"].value_counts()"
   ]
  },
  {
   "cell_type": "markdown",
   "metadata": {},
   "source": [
    "En la variable room_type hay un gran desequilibrio entre sus categorías: la categoría Shared room es mucho menos frecuente que las otras dos. Este se tendrá en cuenta al hacer la separación en test y training set y al diseñar los modelos."
   ]
  },
  {
   "cell_type": "markdown",
   "metadata": {},
   "source": [
    "Se dibujan histogramas de las variables numéricas"
   ]
  },
  {
   "cell_type": "code",
   "execution_count": 8,
   "metadata": {
    "scrolled": true
   },
   "outputs": [
    {
     "data": {
      "image/png": "[encoded data removed]",
      "text/plain": [
       "<Figure size 1440x1440 with 9 Axes>"
      ]
     },
     "metadata": {
      "needs_background": "light"
     },
     "output_type": "display_data"
    }
   ],
   "source": [
    "df.hist(bins=100,figsize=(20,20))\n",
    "plt.show()"
   ]
  },
  {
   "cell_type": "markdown",
   "metadata": {},
   "source": [
    "Como se esperaba, las variables price, minimum_nights, number_of_reviews y calculated_host_listings_count tienen su máximo muy a la izquierda y una cola por la derecha. Como los máximos son tan grandes hay valores que no se aprecian bien, así que a continuación se dibujan los mismos histogramas pero en escala logarítmica para que aprecien bien todos los valores"
   ]
  },
  {
   "cell_type": "code",
   "execution_count": 9,
   "metadata": {},
   "outputs": [
    {
     "data": {
      "image/png": "[encoded data removed]",
      "text/plain": [
       "<Figure size 1440x1440 with 9 Axes>"
      ]
     },
     "metadata": {
      "needs_background": "light"
     },
     "output_type": "display_data"
    }
   ],
   "source": [
    "df.hist(bins=100,figsize=(20,20), log = True)\n",
    "plt.show()"
   ]
  },
  {
   "cell_type": "markdown",
   "metadata": {},
   "source": [
    "## Separación en training set y test set"
   ]
  },
  {
   "cell_type": "markdown",
   "metadata": {},
   "source": [
    "Como la variable objetivo está tan desequilibrada, se va a usar StratifiedShuffleSplit para que la proporción entre las tres categorías de room_type se mantenga en ambos sets. "
   ]
  },
  {
   "cell_type": "code",
   "execution_count": 10,
   "metadata": {},
   "outputs": [],
   "source": [
    "from sklearn.model_selection import StratifiedShuffleSplit\n",
    "\n",
    "split = StratifiedShuffleSplit(n_splits=1, test_size=0.2, random_state=1)\n",
    "for train_index, test_index in split.split(df, df['room_type']):\n",
    "    train_set = df.loc[train_index]\n",
    "    test_set = df.loc[test_index]"
   ]
  },
  {
   "cell_type": "markdown",
   "metadata": {},
   "source": [
    "A continuación se comprueba que la proporción entre las categorías en el test set es aproximadamente igual que en el dataframe original"
   ]
  },
  {
   "cell_type": "code",
   "execution_count": 11,
   "metadata": {},
   "outputs": [
    {
     "data": {
      "text/plain": [
       "Entire home/apt    0.200101\n",
       "Private room       0.200077\n",
       "Shared room        0.197917\n",
       "Name: room_type, dtype: float64"
      ]
     },
     "execution_count": 11,
     "metadata": {},
     "output_type": "execute_result"
    }
   ],
   "source": [
    "test_set[\"room_type\"].value_counts()/df[\"room_type\"].value_counts()"
   ]
  },
  {
   "cell_type": "markdown",
   "metadata": {},
   "source": [
    "## Preparación datos"
   ]
  },
  {
   "cell_type": "markdown",
   "metadata": {},
   "source": [
    "La preparación de los datos va a consistir en solo dos transformaciones. A las variables numéricas se les va a aplicar StandarScaler de manera que tengan media 0 y desviación 1. A las variables categóricas se les aplica OneHotEncoder de manera que haya una columna con 1 o 0 para cada categoría. Estas transformaciones se realizan solo sobre las variables independientes, la variable independiente (room_type) queda intacta."
   ]
  },
  {
   "cell_type": "code",
   "execution_count": 12,
   "metadata": {},
   "outputs": [],
   "source": [
    "from sklearn.preprocessing import OneHotEncoder\n",
    "from sklearn.preprocessing import StandardScaler\n",
    "from sklearn.compose import ColumnTransformer\n",
    "\n",
    "train_set_features = train_set.drop(columns=['room_type'])\n",
    "train_set_labels = train_set['room_type'].copy()\n",
    "\n",
    "num_attribs = ['latitude','longitude',\n",
    "               'price','minimum_nights',\n",
    "               'number_of_reviews',\n",
    "               'reviews_per_month',\n",
    "               'calculated_host_listings_count',\n",
    "               'availability_365']\n",
    "cat_attribs = ['neighbourhood_group', 'neighbourhood']\n",
    "\n",
    "pipeline = ColumnTransformer([\n",
    "        (\"num\", StandardScaler(), num_attribs),\n",
    "        (\"cat\", OneHotEncoder(), cat_attribs),\n",
    "    ])\n",
    "\n",
    "train_set_prepared = pipeline.fit_transform(train_set_features)"
   ]
  },
  {
   "cell_type": "markdown",
   "metadata": {},
   "source": [
    "También se realiza la preparación de los datos en el test set para luego poder comprobar la precisión del modelo sobre él."
   ]
  },
  {
   "cell_type": "code",
   "execution_count": 13,
   "metadata": {},
   "outputs": [],
   "source": [
    "test_set_features = test_set.drop(columns=['room_type'])\n",
    "test_set_labels = test_set['room_type'].copy()\n",
    "\n",
    "test_set_prepared = pipeline.transform(test_set_features)"
   ]
  },
  {
   "cell_type": "markdown",
   "metadata": {},
   "source": [
    "### Linear SVC"
   ]
  },
  {
   "cell_type": "markdown",
   "metadata": {},
   "source": [
    "Primero se usa el modelo de Linear SVC con los valores por defecto"
   ]
  },
  {
   "cell_type": "code",
   "execution_count": 14,
   "metadata": {},
   "outputs": [],
   "source": [
    "from sklearn.svm import LinearSVC\n",
    "linear_svc_clf = LinearSVC()"
   ]
  },
  {
   "cell_type": "code",
   "execution_count": 15,
   "metadata": {
    "scrolled": true
   },
   "outputs": [
    {
     "name": "stderr",
     "output_type": "stream",
     "text": [
      "C:\\Users\\user\\anaconda3\\lib\\site-packages\\sklearn\\svm\\_base.py:976: ConvergenceWarning: Liblinear failed to converge, increase the number of iterations.\n",
      "  warnings.warn(\"Liblinear failed to converge, increase \"\n"
     ]
    },
    {
     "data": {
      "text/plain": [
       "0.7908222568682891"
      ]
     },
     "execution_count": 15,
     "metadata": {},
     "output_type": "execute_result"
    }
   ],
   "source": [
    "scores = cross_val_score(linear_svc_clf, train_set_prepared, train_set_labels,\n",
    "                         scoring=\"accuracy\", cv=10)\n",
    "scores.mean()"
   ]
  },
  {
   "cell_type": "markdown",
   "metadata": {},
   "source": [
    "(Nota: En distintos puntos del notebook sklearn me da warnings de que no converge y debo aumentar el número de iteraciones. He probado a aumentar el número de iteraciones hasta valores altísimos como 10 millones y me sigue dando el mismo warning, y además el score apenas cambia)"
   ]
  },
  {
   "cell_type": "markdown",
   "metadata": {},
   "source": [
    "Para medir la precisión del modelo sobre el test set se ha creado una función que comparará las categorías predichas con las reales."
   ]
  },
  {
   "cell_type": "code",
   "execution_count": 16,
   "metadata": {},
   "outputs": [],
   "source": [
    "def accuracy(list1, list2):\n",
    "    bool_list = (list1 == list2)\n",
    "    return np.count_nonzero(bool_list == True)/len(bool_list)"
   ]
  },
  {
   "cell_type": "code",
   "execution_count": 17,
   "metadata": {},
   "outputs": [
    {
     "data": {
      "text/plain": [
       "0.7913696060037524"
      ]
     },
     "execution_count": 17,
     "metadata": {},
     "output_type": "execute_result"
    }
   ],
   "source": [
    "linear_svc_clf.fit(train_set_prepared, train_set_labels)\n",
    "predictions = linear_svc_clf.predict(test_set_prepared)\n",
    "accuracy(predictions, test_set_labels.values)"
   ]
  },
  {
   "cell_type": "markdown",
   "metadata": {},
   "source": [
    "La exactitud en el test set es casi la misma que en el training set"
   ]
  },
  {
   "cell_type": "code",
   "execution_count": 18,
   "metadata": {},
   "outputs": [
    {
     "data": {
      "text/plain": [
       "(array(['Entire home/apt', 'Private room', 'Shared room'], dtype=object),\n",
       " array([1586, 1041,   38], dtype=int64))"
      ]
     },
     "execution_count": 18,
     "metadata": {},
     "output_type": "execute_result"
    }
   ],
   "source": [
    "np.unique(test_set_labels.values,return_counts=True)"
   ]
  },
  {
   "cell_type": "markdown",
   "metadata": {},
   "source": [
    "Se dibuja la matriz de confusión para ver en qué categorías se equivoca el modelo"
   ]
  },
  {
   "cell_type": "code",
   "execution_count": 19,
   "metadata": {
    "scrolled": true
   },
   "outputs": [
    {
     "data": {
      "text/plain": [
       "array([[1417,  169,    0],\n",
       "       [ 348,  691,    2],\n",
       "       [   9,   28,    1]], dtype=int64)"
      ]
     },
     "execution_count": 19,
     "metadata": {},
     "output_type": "execute_result"
    }
   ],
   "source": [
    "confusion_matrix(test_set_labels.values, predictions)"
   ]
  },
  {
   "cell_type": "markdown",
   "metadata": {},
   "source": [
    "Se observa que la mayoría de los 'Shared room' los clasifica mal (solo ha acertado en uno). También hay varios 'Private room' que etiqueta erróneamente como 'Entire home/apt'"
   ]
  },
  {
   "cell_type": "markdown",
   "metadata": {},
   "source": [
    "### RBF SVC"
   ]
  },
  {
   "cell_type": "code",
   "execution_count": 20,
   "metadata": {},
   "outputs": [],
   "source": [
    "from sklearn.svm import SVC\n",
    "rbf_svc_clf = SVC(kernel=\"rbf\")"
   ]
  },
  {
   "cell_type": "markdown",
   "metadata": {},
   "source": [
    "Para el modelo SVC con kernel rbf se empieza optimizando los hiperparámetros C y gamma. Como a priori no se conoce en qué rango de valores están se empieza con una búsqueda muy amplia y después se va refinando."
   ]
  },
  {
   "cell_type": "code",
   "execution_count": 24,
   "metadata": {},
   "outputs": [
    {
     "name": "stdout",
     "output_type": "stream",
     "text": [
      "Fitting 10 folds for each of 110 candidates, totalling 1100 fits\n"
     ]
    },
    {
     "name": "stderr",
     "output_type": "stream",
     "text": [
      "[Parallel(n_jobs=-1)]: Using backend LokyBackend with 8 concurrent workers.\n",
      "[Parallel(n_jobs=-1)]: Done  34 tasks      | elapsed:  1.2min\n",
      "[Parallel(n_jobs=-1)]: Done 184 tasks      | elapsed:  5.5min\n",
      "[Parallel(n_jobs=-1)]: Done 434 tasks      | elapsed: 12.9min\n",
      "[Parallel(n_jobs=-1)]: Done 784 tasks      | elapsed: 21.9min\n",
      "[Parallel(n_jobs=-1)]: Done 1100 out of 1100 | elapsed: 41.6min finished\n"
     ]
    },
    {
     "data": {
      "text/plain": [
       "{'C': 128.0, 'gamma': 0.03125}"
      ]
     },
     "execution_count": 24,
     "metadata": {},
     "output_type": "execute_result"
    }
   ],
   "source": [
    "param_grid = [\n",
    "    {'C': np.logspace(-5, 15, num=11,base=2),\n",
    "     'gamma':np.logspace(-15, 3, num=10,base=2)}]\n",
    "\n",
    "\n",
    "grid_search = GridSearchCV(rbf_svc_clf, param_grid, cv=10,\n",
    "                           scoring='accuracy',\n",
    "                           return_train_score=True,\n",
    "                           n_jobs=-1,verbose=1)\n",
    "\n",
    "grid_search.fit(train_set_prepared, train_set_labels)\n",
    "grid_search.best_params_"
   ]
  },
  {
   "cell_type": "markdown",
   "metadata": {},
   "source": [
    "En función de estos resultados se puede realizar una búsqueda con un grid más fino."
   ]
  },
  {
   "cell_type": "code",
   "execution_count": 34,
   "metadata": {},
   "outputs": [
    {
     "name": "stdout",
     "output_type": "stream",
     "text": [
      "Fitting 10 folds for each of 169 candidates, totalling 1690 fits\n"
     ]
    },
    {
     "name": "stderr",
     "output_type": "stream",
     "text": [
      "[Parallel(n_jobs=-1)]: Using backend LokyBackend with 8 concurrent workers.\n",
      "[Parallel(n_jobs=-1)]: Done  34 tasks      | elapsed:   33.4s\n",
      "[Parallel(n_jobs=-1)]: Done 184 tasks      | elapsed:  2.3min\n",
      "[Parallel(n_jobs=-1)]: Done 434 tasks      | elapsed:  5.5min\n",
      "[Parallel(n_jobs=-1)]: Done 784 tasks      | elapsed: 10.3min\n",
      "[Parallel(n_jobs=-1)]: Done 1234 tasks      | elapsed: 16.9min\n",
      "[Parallel(n_jobs=-1)]: Done 1690 out of 1690 | elapsed: 24.9min finished\n"
     ]
    },
    {
     "data": {
      "text/plain": [
       "{'C': 50.796833662982394, 'gamma': 0.049606282874006216}"
      ]
     },
     "execution_count": 34,
     "metadata": {},
     "output_type": "execute_result"
    }
   ],
   "source": [
    "param_grid = [\n",
    "    {'C': np.logspace(5, 9, num=13,base=2),\n",
    "     'gamma':np.logspace(-7, -3, num=13,base=2)}]\n",
    "\n",
    "\n",
    "grid_search = GridSearchCV(rbf_svc_clf, param_grid, cv=10,\n",
    "                           scoring='accuracy',\n",
    "                           return_train_score=True,\n",
    "                           n_jobs=-1, verbose=1)\n",
    "\n",
    "grid_search.fit(train_set_prepared, train_set_labels)\n",
    "grid_search.best_params_"
   ]
  },
  {
   "cell_type": "markdown",
   "metadata": {},
   "source": [
    "'C': 16.0, 'gamma': 0.06750373368076912"
   ]
  },
  {
   "cell_type": "markdown",
   "metadata": {},
   "source": [
    "Se hace una última búsqueda para encontrar los valores óptimos."
   ]
  },
  {
   "cell_type": "code",
   "execution_count": 36,
   "metadata": {},
   "outputs": [
    {
     "data": {
      "text/plain": [
       "array([0.0078125 , 0.00984313, 0.01240157, 0.015625  , 0.01968627,\n",
       "       0.02480314, 0.03125   , 0.03937253, 0.04960628, 0.0625    ,\n",
       "       0.07874507, 0.09921257, 0.125     ])"
      ]
     },
     "execution_count": 36,
     "metadata": {},
     "output_type": "execute_result"
    }
   ],
   "source": [
    "np.logspace(-7, -3, num=13,base=2)"
   ]
  },
  {
   "cell_type": "code",
   "execution_count": 37,
   "metadata": {},
   "outputs": [
    {
     "name": "stdout",
     "output_type": "stream",
     "text": [
      "Fitting 10 folds for each of 72 candidates, totalling 720 fits\n"
     ]
    },
    {
     "name": "stderr",
     "output_type": "stream",
     "text": [
      "[Parallel(n_jobs=-1)]: Using backend LokyBackend with 8 concurrent workers.\n",
      "[Parallel(n_jobs=-1)]: Done  34 tasks      | elapsed:   28.1s\n",
      "[Parallel(n_jobs=-1)]: Done 184 tasks      | elapsed:  2.2min\n",
      "[Parallel(n_jobs=-1)]: Done 434 tasks      | elapsed:  5.3min\n",
      "[Parallel(n_jobs=-1)]: Done 720 out of 720 | elapsed:  8.9min finished\n"
     ]
    },
    {
     "data": {
      "text/plain": [
       "{'C': 49, 'gamma': 0.05}"
      ]
     },
     "execution_count": 37,
     "metadata": {},
     "output_type": "execute_result"
    }
   ],
   "source": [
    "param_grid = [\n",
    "    {'C': range(40,64),\n",
    "     'gamma':[0.04,0.05,0.06]}]\n",
    "\n",
    "\n",
    "grid_search = GridSearchCV(rbf_svc_clf, param_grid, cv=10,\n",
    "                           scoring='accuracy',\n",
    "                           return_train_score=True,\n",
    "                           n_jobs=-1,verbose=1)\n",
    "\n",
    "grid_search.fit(train_set_prepared, train_set_labels)\n",
    "grid_search.best_params_"
   ]
  },
  {
   "cell_type": "markdown",
   "metadata": {},
   "source": [
    "Ahora que se han encontrado los hiperparámetros óptimos se evalúa el modelo con cross validation."
   ]
  },
  {
   "cell_type": "code",
   "execution_count": 38,
   "metadata": {},
   "outputs": [
    {
     "data": {
      "text/plain": [
       "0.8963974843432074"
      ]
     },
     "execution_count": 38,
     "metadata": {},
     "output_type": "execute_result"
    }
   ],
   "source": [
    "rbf_svc_clf = SVC(kernel=\"rbf\",C=49,gamma=0.05)\n",
    "scores = cross_val_score(rbf_svc_clf, train_set_prepared, train_set_labels,\n",
    "                         scoring=\"accuracy\", cv=10)\n",
    "scores.mean()"
   ]
  },
  {
   "cell_type": "markdown",
   "metadata": {},
   "source": [
    "También se evalúa el modelo usando el test set."
   ]
  },
  {
   "cell_type": "code",
   "execution_count": 39,
   "metadata": {},
   "outputs": [
    {
     "data": {
      "text/plain": [
       "0.899437148217636"
      ]
     },
     "execution_count": 39,
     "metadata": {},
     "output_type": "execute_result"
    }
   ],
   "source": [
    "rbf_svc_clf.fit(train_set_prepared, train_set_labels)\n",
    "predictions = rbf_svc_clf.predict(test_set_prepared)\n",
    "accuracy(predictions, test_set_labels.values)"
   ]
  },
  {
   "cell_type": "markdown",
   "metadata": {},
   "source": [
    "Tanto con cross validation como con el test set se observa que la exactitud de este modelo ha mejorado bastante con respecto al modelo lineal."
   ]
  },
  {
   "cell_type": "markdown",
   "metadata": {},
   "source": [
    "Se dibuja la matriz de confusión."
   ]
  },
  {
   "cell_type": "code",
   "execution_count": 40,
   "metadata": {
    "scrolled": true
   },
   "outputs": [
    {
     "data": {
      "text/plain": [
       "array([[1477,  109,    0],\n",
       "       [ 117,  917,    7],\n",
       "       [   6,   29,    3]], dtype=int64)"
      ]
     },
     "execution_count": 40,
     "metadata": {},
     "output_type": "execute_result"
    }
   ],
   "source": [
    "confusion_matrix(test_set_labels.values, predictions)"
   ]
  },
  {
   "cell_type": "markdown",
   "metadata": {},
   "source": [
    "A diferencia de en el modelo lineal ahora hay menos confusión entre las categorías 'Entire home/apt' y 'Private room', pero la categoría 'Shared room' la sigue clasificando fatal."
   ]
  },
  {
   "cell_type": "markdown",
   "metadata": {},
   "source": [
    "# Regresión"
   ]
  },
  {
   "cell_type": "markdown",
   "metadata": {},
   "source": [
    "Con esta regresión se pretende modelar la variable 'Price' a partir de todas las demás. Puesto que el problema es fundamentalmente distinto al de clasificación se parte de el dataframe original, sin usar las transformaciones que se hayan usado en la sección anterior."
   ]
  },
  {
   "cell_type": "markdown",
   "metadata": {},
   "source": [
    "## Eliminación outliers"
   ]
  },
  {
   "cell_type": "markdown",
   "metadata": {},
   "source": [
    "Para identificar y eliminar los outliers se va a emplear el z-score, que mide a cuantas desviaciones típicas está una observación de la media. Se ha decidido eliminar outliers teniendo en cuenta solo el valor de la variable 'price', porque como es la variable objetivo, influye mucho más que las otras. Se han hecho pruebas quitando outliers de las variables 'minimum_nights' y 'calculated_host_listings_count', y se ha observado que a menos que se quite un gran número de observaciones el resultado no varía."
   ]
  },
  {
   "cell_type": "code",
   "execution_count": 6,
   "metadata": {},
   "outputs": [],
   "source": [
    "from scipy import stats\n",
    "\n",
    "df_inliers = df.copy()\n",
    "df_inliers= df_inliers[stats.zscore(df_inliers['price'])<1]"
   ]
  },
  {
   "cell_type": "code",
   "execution_count": 7,
   "metadata": {},
   "outputs": [
    {
     "data": {
      "text/plain": [
       "95.54838225358456"
      ]
     },
     "execution_count": 7,
     "metadata": {},
     "output_type": "execute_result"
    }
   ],
   "source": [
    "len(df_inliers.index)/len(df.index)*100"
   ]
  },
  {
   "cell_type": "markdown",
   "metadata": {},
   "source": [
    "Escogiendo z-score < 1 solo se eliminan un 5% de las observaciones."
   ]
  },
  {
   "cell_type": "markdown",
   "metadata": {},
   "source": [
    "Ahora que se ha hecho una limpieza, se representan unos histogramas de 'price','minimum_nights' y 'calculated_host_listings_count', que son las variables con más outliers."
   ]
  },
  {
   "cell_type": "code",
   "execution_count": 62,
   "metadata": {
    "scrolled": false
   },
   "outputs": [
    {
     "data": {
      "image/png": "[encoded data removed]",
      "text/plain": [
       "<Figure size 720x720 with 4 Axes>"
      ]
     },
     "metadata": {
      "needs_background": "light"
     },
     "output_type": "display_data"
    }
   ],
   "source": [
    "df_inliers[['price','minimum_nights','calculated_host_listings_count']].hist(bins=100,figsize=(10,10))\n",
    "plt.show()"
   ]
  },
  {
   "cell_type": "markdown",
   "metadata": {},
   "source": [
    "Viendo estos histogramas es tentador seguir quitando outliers, pues estas variables tienen trails muy largos por la derecha que van a empeorar la capacidad predictiva del modelo. Aún así se ha decidido dejarlo así porque para eliminar esos trails habría que eliminar un porcentaje muy alto del dataset (alrededor de un 30%)"
   ]
  },
  {
   "cell_type": "markdown",
   "metadata": {},
   "source": [
    "### Separación en training y test set"
   ]
  },
  {
   "cell_type": "markdown",
   "metadata": {},
   "source": [
    "Se separan los datos en train y test set"
   ]
  },
  {
   "cell_type": "code",
   "execution_count": 8,
   "metadata": {},
   "outputs": [],
   "source": [
    "from sklearn.model_selection import train_test_split\n",
    "\n",
    "train_set, test_set = train_test_split(df_inliers, test_size=0.2, random_state=1)"
   ]
  },
  {
   "cell_type": "markdown",
   "metadata": {},
   "source": [
    "### Preparación datos"
   ]
  },
  {
   "cell_type": "markdown",
   "metadata": {},
   "source": [
    "Se realizan dos transformaciones: a los datos numéricos se les aplica StandarScaler y a los categóricos OneHotEncoder"
   ]
  },
  {
   "cell_type": "code",
   "execution_count": 9,
   "metadata": {},
   "outputs": [],
   "source": [
    "from sklearn.preprocessing import OneHotEncoder\n",
    "from sklearn.preprocessing import StandardScaler\n",
    "from sklearn.compose import ColumnTransformer\n",
    "\n",
    "train_set_features = train_set.drop(columns=['price'])\n",
    "train_set_labels = train_set['price'].copy()\n",
    "\n",
    "num_attribs = ['latitude','longitude',\n",
    "               'minimum_nights',\n",
    "               'number_of_reviews',\n",
    "               'reviews_per_month',\n",
    "               'calculated_host_listings_count',\n",
    "               'availability_365']\n",
    "cat_attribs = ['neighbourhood_group','room_type','neighbourhood']\n",
    "\n",
    "pipeline = ColumnTransformer([\n",
    "        (\"num\", StandardScaler(), num_attribs),\n",
    "        (\"cat\", OneHotEncoder(handle_unknown='ignore'), cat_attribs),\n",
    "    ])\n",
    "\n",
    "train_set_prepared = pipeline.fit_transform(train_set_features)"
   ]
  },
  {
   "cell_type": "markdown",
   "metadata": {},
   "source": [
    "Al test set se le aplican las mismas transformaciones"
   ]
  },
  {
   "cell_type": "code",
   "execution_count": 10,
   "metadata": {},
   "outputs": [],
   "source": [
    "test_set_features = test_set.drop(columns=['price'])\n",
    "test_set_labels = test_set['price'].copy()\n",
    "\n",
    "test_set_prepared = pipeline.transform(test_set_features)"
   ]
  },
  {
   "cell_type": "markdown",
   "metadata": {},
   "source": [
    "### LinearSVR"
   ]
  },
  {
   "cell_type": "markdown",
   "metadata": {},
   "source": [
    "Primero se prueba el modelo lineal con las opciones por defecto."
   ]
  },
  {
   "cell_type": "code",
   "execution_count": 11,
   "metadata": {},
   "outputs": [],
   "source": [
    "from sklearn.svm import LinearSVR\n",
    "\n",
    "svm_reg = LinearSVR()"
   ]
  },
  {
   "cell_type": "code",
   "execution_count": 67,
   "metadata": {},
   "outputs": [
    {
     "data": {
      "text/plain": [
       "0.4814187319518098"
      ]
     },
     "execution_count": 67,
     "metadata": {},
     "output_type": "execute_result"
    }
   ],
   "source": [
    "scores = cross_val_score(svm_reg, train_set_prepared, train_set_labels,\n",
    "                         scoring=\"r2\", cv=10)\n",
    "R2 = scores.mean()\n",
    "R2"
   ]
  },
  {
   "cell_type": "markdown",
   "metadata": {},
   "source": [
    "Para comparar este modelo que tiene todas las  variables con uno al que se le haya quitado la variable 'neighbourhood' se va a usar R2 ajustado, que disminuye al aumentar las variables."
   ]
  },
  {
   "cell_type": "code",
   "execution_count": 68,
   "metadata": {},
   "outputs": [],
   "source": [
    "def adjR2(R2,n,k):\n",
    "    numerador = (1-R2)*(n-1)\n",
    "    denominador = n-k-1\n",
    "    return 1-(numerador/denominador)"
   ]
  },
  {
   "cell_type": "code",
   "execution_count": 69,
   "metadata": {},
   "outputs": [],
   "source": [
    "n = train_set_prepared.shape[0] # Número de filas\n",
    "k = train_set_prepared.shape[1] # Número de columnas"
   ]
  },
  {
   "cell_type": "code",
   "execution_count": 70,
   "metadata": {},
   "outputs": [
    {
     "data": {
      "text/plain": [
       "0.4732964994015737"
      ]
     },
     "execution_count": 70,
     "metadata": {},
     "output_type": "execute_result"
    }
   ],
   "source": [
    "adjR2(R2,n,k)"
   ]
  },
  {
   "cell_type": "markdown",
   "metadata": {},
   "source": [
    "Si al dataset se le quita neighbourhood su R2 ajustado es 0.45690523741188493, que es peor que el del modelo con todas las variables, por lo que finalmente se deja la variable."
   ]
  },
  {
   "cell_type": "markdown",
   "metadata": {},
   "source": [
    "### SVR"
   ]
  },
  {
   "cell_type": "markdown",
   "metadata": {},
   "source": [
    "Ahora se prueba SVR con las opciones por defecto."
   ]
  },
  {
   "cell_type": "code",
   "execution_count": 71,
   "metadata": {},
   "outputs": [],
   "source": [
    "from sklearn.svm import SVR\n",
    "\n",
    "svm_poly_reg = SVR()"
   ]
  },
  {
   "cell_type": "code",
   "execution_count": 72,
   "metadata": {},
   "outputs": [
    {
     "data": {
      "text/plain": [
       "0.46059600831918984"
      ]
     },
     "execution_count": 72,
     "metadata": {},
     "output_type": "execute_result"
    }
   ],
   "source": [
    "scores = cross_val_score(svm_poly_reg, train_set_prepared, train_set_labels,\n",
    "                         scoring=\"r2\", cv=10)\n",
    "R2 = scores.mean()\n",
    "R2"
   ]
  },
  {
   "cell_type": "markdown",
   "metadata": {},
   "source": [
    "El resultado es peor que el del modelo lineal."
   ]
  },
  {
   "cell_type": "markdown",
   "metadata": {},
   "source": [
    "### Ajuste Hiperparámetros"
   ]
  },
  {
   "cell_type": "markdown",
   "metadata": {},
   "source": [
    "Como en la sección anterior se ha visto que el modelo lineal obtiene mejores resultados se va a optimizar el hiperparámetro C para este modelo. Primero se usa un grid amplio para ver en que rango de valores está el óptimo."
   ]
  },
  {
   "cell_type": "code",
   "execution_count": 73,
   "metadata": {
    "scrolled": true
   },
   "outputs": [
    {
     "data": {
      "text/plain": [
       "{'C': 4.0}"
      ]
     },
     "execution_count": 73,
     "metadata": {},
     "output_type": "execute_result"
    }
   ],
   "source": [
    "svm_reg = LinearSVR()\n",
    "param_grid = [\n",
    "    {'C': np.logspace(-5, 15, num=21,base=2)}]\n",
    "\n",
    "\n",
    "grid_search = GridSearchCV(svm_reg, param_grid, cv=10,\n",
    "                           scoring='r2',\n",
    "                           return_train_score=True,n_jobs=-1)\n",
    "\n",
    "grid_search.fit(train_set_prepared, train_set_labels)\n",
    "grid_search.best_params_"
   ]
  },
  {
   "cell_type": "markdown",
   "metadata": {},
   "source": [
    "Ahora se usa un grid más fino para encontrar el valor final."
   ]
  },
  {
   "cell_type": "code",
   "execution_count": 75,
   "metadata": {
    "scrolled": true
   },
   "outputs": [
    {
     "data": {
      "text/plain": [
       "{'C': 5}"
      ]
     },
     "execution_count": 75,
     "metadata": {},
     "output_type": "execute_result"
    }
   ],
   "source": [
    "svm_reg = LinearSVR()\n",
    "param_grid = [{'C': range(2,16)}]\n",
    "\n",
    "\n",
    "grid_search = GridSearchCV(svm_reg, param_grid, cv=10,\n",
    "                           scoring='r2',\n",
    "                           return_train_score=True, n_jobs=-1)\n",
    "\n",
    "grid_search.fit(train_set_prepared, train_set_labels)\n",
    "grid_search.best_params_"
   ]
  },
  {
   "cell_type": "markdown",
   "metadata": {},
   "source": [
    "Una vez encontrado el valor óptimo de C se evalúa el modelo con cross validation."
   ]
  },
  {
   "cell_type": "code",
   "execution_count": 17,
   "metadata": {
    "scrolled": true
   },
   "outputs": [
    {
     "data": {
      "text/plain": [
       "0.4819145628218474"
      ]
     },
     "execution_count": 17,
     "metadata": {},
     "output_type": "execute_result"
    }
   ],
   "source": [
    "svm_reg = LinearSVR(C=5)\n",
    "scores = cross_val_score(svm_reg, train_set_prepared, train_set_labels,\n",
    "                         scoring=\"r2\", cv=10)\n",
    "scores.mean()"
   ]
  },
  {
   "cell_type": "markdown",
   "metadata": {},
   "source": [
    "También se evalúa el modelo usando el test set."
   ]
  },
  {
   "cell_type": "code",
   "execution_count": 77,
   "metadata": {
    "scrolled": true
   },
   "outputs": [
    {
     "data": {
      "text/plain": [
       "0.4851766835917376"
      ]
     },
     "execution_count": 77,
     "metadata": {},
     "output_type": "execute_result"
    }
   ],
   "source": [
    "svm_reg.fit(train_set_prepared, train_set_labels)\n",
    "svm_reg.score(test_set_prepared,test_set_labels)"
   ]
  },
  {
   "cell_type": "markdown",
   "metadata": {},
   "source": [
    "Al ser una regresión multivariable no se puede representar la recta de regresión porque está en más de 3 dimensiones. En vez de eso, se representa un scatterplot con los valores del precio real frente a los valores predichos. Se ha dibujado sobre los puntos la recta y=x para servir como apoyo visual pero no representa nada."
   ]
  },
  {
   "cell_type": "code",
   "execution_count": 78,
   "metadata": {},
   "outputs": [
    {
     "data": {
      "image/png": "[encoded data removed]",
      "text/plain": [
       "<Figure size 1440x720 with 1 Axes>"
      ]
     },
     "metadata": {
      "needs_background": "light"
     },
     "output_type": "display_data"
    }
   ],
   "source": [
    "plt.figure(figsize=(20,10))\n",
    "plt.plot([0,100], [0,100], c=[0,0,0])\n",
    "plt.scatter(svm_reg.predict(test_set_prepared), test_set_labels, s = 2)\n",
    "plt.xlabel(\"Predicción modelo\")\n",
    "plt.ylabel(\"Valor real\")\n",
    "plt.title(\"Precio real vs Precio predicho\")\n",
    "plt.show()"
   ]
  },
  {
   "cell_type": "markdown",
   "metadata": {},
   "source": [
    "# Conclusiones"
   ]
  },
  {
   "cell_type": "markdown",
   "metadata": {},
   "source": [
    "Para el ejercicio de clasificación se observa que usando un modelo lineal y con las opciones por defecto se consigue una exactitud considerable del 79%. Este modelo es incapaz de clasificar correctamente 'Shared room' y también clasifica erroneamente algunos 'Private room' como 'Entire home/apt'. \n",
    "\n",
    "Por otro lado, el modelo con kernel rbf y con los hiperparámetros optimizados consigue una exactitud mejor de casi el 90%. Este modelo es bastante mejor distinguiendo 'Private room' de 'Entire home/apt' que el lineal, pero sigue sin poder distinguir en absoluto los 'Shared room'. La dificualtad que tienen ambos modelos para clasificar 'Shared room' se debe probablemente a que hay menos datos de esta clase.\n",
    "\n",
    "En cuanto al ejercicio de regresión, se ha visto que el modelo con kernel lineal obtiene mejores resultados que el modelo con kernel rbf, aunque en realidad la diferencia entre sus r2 es pequeña (un 0.48 frente a un 0.46). También se ha observado que ajustar el hiperparámetro C apenas mejora el modelo con respecto al valor por defecto. \n",
    "\n",
    "Tanto por el valor de r2 como por la gráfica anterior se puede ver que el modelo de regresión no es muy bueno. Esto se debe probablemente a que las variables numéricas del dataset tienen mucha varianza, sobre todo 'price', 'minimum_nights' y 'calculated_host_listings_count'."
   ]
  }
 ],
 "metadata": {
  "kernelspec": {
   "display_name": "Python 3",
   "language": "python",
   "name": "python3"
  },
  "language_info": {
   "codemirror_mode": {
    "name": "ipython",
    "version": 3
   },
   "file_extension": ".py",
   "mimetype": "text/x-python",
   "name": "python",
   "nbconvert_exporter": "python",
   "pygments_lexer": "ipython3",
   "version": "3.8.5"
  },
  "widgets": {
   "application/vnd.jupyter.widget-state+json": {
    "state": {},
    "version_major": 2,
    "version_minor": 0
   }
  }
 },
 "nbformat": 4,
 "nbformat_minor": 4
}
